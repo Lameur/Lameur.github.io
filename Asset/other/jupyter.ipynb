{
 "cells": [
  {
   "cell_type": "markdown",
   "metadata": {},
   "source": [
    "# Jupiter Notebook\n"
   ]
  },
  {
   "cell_type": "code",
   "execution_count": 1,
   "metadata": {
    "dotnet_interactive": {
     "language": "value"
    },
    "polyglot_notebook": {
     "kernelName": "value"
    }
   },
   "outputs": [
    {
     "name": "stdout",
     "output_type": "stream",
     "text": [
      "flush\n",
      "x+y= 6\n"
     ]
    }
   ],
   "source": [
    "import os\n",
    "import _osx_support\n",
    "import time\n",
    "import timer\n",
    "\n",
    "os.system(\"cls\" if os.name == \"nt\" else \"clear\")\n",
    "\n",
    "print(\"flush\")\n",
    "time.sleep(5)\n",
    "\n",
    "\n",
    "def printxy(x, y):\n",
    "    print(\"x+y=\", y + x)\n",
    "\n",
    "\n",
    "printxy(1, 5)"
   ]
  }
 ],
 "metadata": {
  "kernelspec": {
   "display_name": "Python 3 (ipykernel)",
   "language": "python",
   "name": "python3"
  },
  "language_info": {
   "codemirror_mode": {
    "name": "ipython",
    "version": 3
   },
   "file_extension": ".py",
   "mimetype": "text/x-python",
   "name": "python",
   "nbconvert_exporter": "python",
   "pygments_lexer": "ipython3",
   "version": "3.11.4"
  },
  "polyglot_notebook": {
   "kernelInfo": {
    "defaultKernelName": "csharp",
    "items": [
     {
      "aliases": [],
      "name": "csharp"
     }
    ]
   }
  }
 },
 "nbformat": 4,
 "nbformat_minor": 4
}
